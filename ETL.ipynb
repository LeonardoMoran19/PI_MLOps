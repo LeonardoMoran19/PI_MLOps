{
 "cells": [
  {
   "cell_type": "code",
   "execution_count": 1,
   "metadata": {},
   "outputs": [],
   "source": [
    "import gzip\n",
    "import ast\n",
    "import pandas as pd\n",
    "from textblob import TextBlob\n",
    "from datetime import datetime\n",
    "from sklearn.feature_extraction.text import CountVectorizer\n",
    "from sklearn.metrics.pairwise import cosine_similarity\n",
    "import pickle\n",
    "import sys"
   ]
  },
  {
   "cell_type": "code",
   "execution_count": 2,
   "metadata": {},
   "outputs": [],
   "source": [
    "pd.options.mode.chained_assignment = None"
   ]
  },
  {
   "cell_type": "code",
   "execution_count": 3,
   "metadata": {},
   "outputs": [],
   "source": [
    "with gzip.open('steam_games.json.gz', 'rb') as f:\n",
    "    steam_raw_df = pd.read_json(f, lines=True)"
   ]
  },
  {
   "cell_type": "code",
   "execution_count": 4,
   "metadata": {},
   "outputs": [],
   "source": [
    "def alt_load(route):\n",
    "    df=[]\n",
    "    with gzip.open(route, 'rb') as f:\n",
    "        file = f.read().decode('utf-8')\n",
    "        for line in file.split('\\n'):\n",
    "            if line:\n",
    "                df.append(ast.literal_eval(line))\n",
    "    return pd.DataFrame(df)"
   ]
  },
  {
   "cell_type": "code",
   "execution_count": 5,
   "metadata": {},
   "outputs": [],
   "source": [
    "reviews_raw_df = alt_load('user_reviews.json.gz')   "
   ]
  },
  {
   "cell_type": "code",
   "execution_count": 6,
   "metadata": {},
   "outputs": [],
   "source": [
    "items_raw_df = alt_load('users_items.json.gz')"
   ]
  },
  {
   "cell_type": "code",
   "execution_count": 122,
   "metadata": {},
   "outputs": [],
   "source": [
    "steam_df = steam_raw_df.dropna(how='all')"
   ]
  },
  {
   "cell_type": "code",
   "execution_count": 8,
   "metadata": {},
   "outputs": [],
   "source": [
    "reviews_df = reviews_raw_df['reviews'].to_frame()"
   ]
  },
  {
   "cell_type": "code",
   "execution_count": 9,
   "metadata": {},
   "outputs": [],
   "source": [
    "reviews_df = reviews_df.explode('reviews').apply(pd.Series)"
   ]
  },
  {
   "cell_type": "code",
   "execution_count": 10,
   "metadata": {},
   "outputs": [],
   "source": [
    "reviews_df = pd.json_normalize(reviews_df['reviews'])"
   ]
  },
  {
   "cell_type": "code",
   "execution_count": 11,
   "metadata": {},
   "outputs": [],
   "source": [
    "reviews_df = reviews_df.drop(columns=['funny','last_edited','helpful'])"
   ]
  },
  {
   "cell_type": "code",
   "execution_count": 12,
   "metadata": {},
   "outputs": [],
   "source": [
    "reviews_df.rename(columns={'posted':'date_str'},inplace=True)"
   ]
  },
  {
   "cell_type": "code",
   "execution_count": 13,
   "metadata": {},
   "outputs": [],
   "source": [
    "reviews_df.dropna(how='all',inplace=True)"
   ]
  },
  {
   "cell_type": "code",
   "execution_count": 14,
   "metadata": {},
   "outputs": [],
   "source": [
    "def analyze_sentiment(review):\n",
    "    analysis = TextBlob(review)\n",
    "    polarity = analysis.sentiment.polarity\n",
    "    if polarity < 0:\n",
    "        return 0  \n",
    "    elif polarity == 0:\n",
    "        return 1  \n",
    "    else:\n",
    "        return 2  "
   ]
  },
  {
   "cell_type": "code",
   "execution_count": 15,
   "metadata": {},
   "outputs": [],
   "source": [
    "reviews_df['sentiment_analysis'] = reviews_df['review'].apply(lambda x: analyze_sentiment(str(x)))"
   ]
  },
  {
   "cell_type": "code",
   "execution_count": 16,
   "metadata": {},
   "outputs": [],
   "source": [
    "reviews_df['recommend'] = reviews_df['recommend'].astype(int)"
   ]
  },
  {
   "cell_type": "code",
   "execution_count": 17,
   "metadata": {},
   "outputs": [],
   "source": [
    "reviews_df['date_str'] = reviews_df['date_str'].str.replace('Posted ', '')"
   ]
  },
  {
   "cell_type": "code",
   "execution_count": 18,
   "metadata": {},
   "outputs": [],
   "source": [
    "reviews_df['date'] = pd.to_datetime(reviews_df['date_str'], format='%B %d, %Y.', errors='coerce')\n"
   ]
  },
  {
   "cell_type": "code",
   "execution_count": 19,
   "metadata": {},
   "outputs": [],
   "source": [
    "reviews_df['date'] = reviews_df['date'].fillna(pd.to_datetime(reviews_df[reviews_df['date'].isnull()]['date_str'] + str(2016),format='%B %d.%Y'))\n"
   ]
  },
  {
   "cell_type": "code",
   "execution_count": 20,
   "metadata": {},
   "outputs": [],
   "source": [
    "reviews_df.drop(columns={'date_str','review'},inplace=True)"
   ]
  },
  {
   "cell_type": "code",
   "execution_count": 21,
   "metadata": {},
   "outputs": [],
   "source": [
    "reviews_df.reset_index(inplace=True)"
   ]
  },
  {
   "cell_type": "code",
   "execution_count": 22,
   "metadata": {},
   "outputs": [],
   "source": [
    "reviews_df.drop(columns={'index'},inplace=True)"
   ]
  },
  {
   "cell_type": "code",
   "execution_count": 123,
   "metadata": {},
   "outputs": [],
   "source": [
    "steam_df.drop(columns={'publisher','title','url','reviews_url','price','early_access','developer'},inplace=True)"
   ]
  },
  {
   "cell_type": "code",
   "execution_count": 124,
   "metadata": {},
   "outputs": [],
   "source": [
    "steam_df.set_index('id', inplace=True)\n"
   ]
  },
  {
   "cell_type": "code",
   "execution_count": 125,
   "metadata": {},
   "outputs": [],
   "source": [
    "steam_df.dropna(how='all',inplace=True)"
   ]
  },
  {
   "cell_type": "code",
   "execution_count": 126,
   "metadata": {},
   "outputs": [],
   "source": [
    "steam_df['date'] = pd.to_datetime(steam_df['release_date'],format='mixed', errors='coerce')"
   ]
  },
  {
   "cell_type": "code",
   "execution_count": 127,
   "metadata": {},
   "outputs": [],
   "source": [
    "steam_df.drop(columns=['release_date'],inplace=True)"
   ]
  },
  {
   "cell_type": "code",
   "execution_count": 128,
   "metadata": {},
   "outputs": [],
   "source": [
    "steam_df.rename(columns={'app_name':'name'},inplace=True)"
   ]
  },
  {
   "cell_type": "code",
   "execution_count": 129,
   "metadata": {},
   "outputs": [],
   "source": [
    "steam_df[['tags','genres','specs']]=steam_df[['tags','genres','specs']].map(lambda x: x if isinstance(x,list) else [])"
   ]
  },
  {
   "cell_type": "code",
   "execution_count": 130,
   "metadata": {},
   "outputs": [],
   "source": [
    "ml_df = steam_df.copy()"
   ]
  },
  {
   "cell_type": "code",
   "execution_count": 131,
   "metadata": {},
   "outputs": [],
   "source": [
    "ml_df['genres']=steam_df.apply(lambda row: row['genres'] + row['tags'] + row['specs'], axis=1)"
   ]
  },
  {
   "cell_type": "code",
   "execution_count": 132,
   "metadata": {},
   "outputs": [],
   "source": [
    "ml_df['genres']=ml_df['genres'].apply(lambda x: list(set(x)))"
   ]
  },
  {
   "cell_type": "code",
   "execution_count": 133,
   "metadata": {},
   "outputs": [],
   "source": [
    "ml_df.rename(columns={'genres':'attributes'},inplace=True)"
   ]
  },
  {
   "cell_type": "code",
   "execution_count": 134,
   "metadata": {},
   "outputs": [],
   "source": [
    "ml_df.dropna(subset=['name'],inplace=True)"
   ]
  },
  {
   "cell_type": "code",
   "execution_count": 141,
   "metadata": {},
   "outputs": [],
   "source": [
    "ml_df =ml_df[~ml_df.index.duplicated()]"
   ]
  },
  {
   "cell_type": "code",
   "execution_count": 138,
   "metadata": {},
   "outputs": [],
   "source": [
    "steam_df.drop(columns={'tags','specs'},inplace=True)"
   ]
  },
  {
   "cell_type": "code",
   "execution_count": 139,
   "metadata": {},
   "outputs": [],
   "source": [
    "ml_df.drop(columns={'tags','specs'},inplace=True)"
   ]
  },
  {
   "cell_type": "code",
   "execution_count": 36,
   "metadata": {},
   "outputs": [],
   "source": [
    "items_df = items_raw_df.drop(columns={'items_count','user_url','steam_id'})"
   ]
  },
  {
   "cell_type": "code",
   "execution_count": 37,
   "metadata": {},
   "outputs": [],
   "source": [
    "items_df = items_df.explode('items').apply(pd.Series)"
   ]
  },
  {
   "cell_type": "code",
   "execution_count": 38,
   "metadata": {},
   "outputs": [],
   "source": [
    "items_df.reset_index(inplace=True)"
   ]
  },
  {
   "cell_type": "code",
   "execution_count": 39,
   "metadata": {},
   "outputs": [],
   "source": [
    "items_df.drop(columns=['index'],inplace=True)"
   ]
  },
  {
   "cell_type": "code",
   "execution_count": 40,
   "metadata": {},
   "outputs": [],
   "source": [
    "items_df = pd.json_normalize(items_df['items']).join(items_df['user_id'])"
   ]
  },
  {
   "cell_type": "code",
   "execution_count": 41,
   "metadata": {},
   "outputs": [],
   "source": [
    "items_df.dropna(subset=['item_id'],inplace=True)"
   ]
  },
  {
   "cell_type": "code",
   "execution_count": 42,
   "metadata": {},
   "outputs": [],
   "source": [
    "items_df['item_id'] = items_df['item_id'].astype(int)"
   ]
  },
  {
   "cell_type": "code",
   "execution_count": 43,
   "metadata": {},
   "outputs": [],
   "source": [
    "items_df.drop(columns={'playtime_2weeks'},inplace=True)"
   ]
  },
  {
   "cell_type": "code",
   "execution_count": 44,
   "metadata": {},
   "outputs": [],
   "source": [
    "items_df.rename(columns={'playtime_forever':'playtime'},inplace=True)"
   ]
  },
  {
   "cell_type": "markdown",
   "metadata": {},
   "source": [
    "Funcion 1"
   ]
  },
  {
   "cell_type": "code",
   "execution_count": 117,
   "metadata": {},
   "outputs": [],
   "source": [
    "def PlayTimeGenre(genero: str,steam_games,user_items):\n",
    "    steam_games = steam_games[steam_games['genres'].apply(lambda x: genero in x)]\n",
    "    user_items = user_items.groupby('item_id')['playtime'].sum()\n",
    "    merged_df = steam_games.merge(user_items, how='left', left_index=True, right_index=True)\n",
    "    merged_df['playtime'] = merged_df['playtime'].fillna(0)\n",
    "    merged_df['date'] = pd.to_datetime(merged_df['date']).dt.year\n",
    "    merged_df = merged_df.groupby('date')['playtime'].sum().reset_index()\n",
    "    merged_df = merged_df.sort_values(by='playtime', ascending=False)\n",
    "    most_played_year = int(merged_df.iloc[0]['date'])\n",
    "    \n",
    "    return f\"Año de lanzamiento con más horas jugadas para el género {genero} es el: {most_played_year}\""
   ]
  },
  {
   "cell_type": "code",
   "execution_count": 118,
   "metadata": {},
   "outputs": [],
   "source": [
    "play_time = {}\n",
    "for x in steam_df['genres'].explode('lista_columna').unique():\n",
    "    try:\n",
    "        play_time[x.lower()]=PlayTimeGenre(x,steam_df[['genres','date']],items_df[['item_id','playtime']]) \n",
    "    except IndexError:\n",
    "        pass "
   ]
  },
  {
   "cell_type": "code",
   "execution_count": 119,
   "metadata": {},
   "outputs": [],
   "source": [
    "pd.DataFrame(list(play_time.items()), columns=['genre', 'return']).set_index('genre').to_parquet('playtimegenre.parquet')"
   ]
  },
  {
   "cell_type": "markdown",
   "metadata": {},
   "source": [
    "Funcion 2"
   ]
  },
  {
   "cell_type": "code",
   "execution_count": 120,
   "metadata": {},
   "outputs": [],
   "source": [
    "def UserForGenre(genero: str,steam_games,user_items):\n",
    "    steam_games = steam_games[steam_games['genres'].apply(lambda x: genero in x)]\n",
    "    steam_games['date'] = pd.to_datetime(steam_games['date']).dt.year\n",
    "    indices = steam_games.index\n",
    "    user_items = user_items[user_items['item_id'].isin(indices)]\n",
    "    user_top = user_items.groupby('user_id')['playtime'].sum().reset_index().sort_values(by='playtime', ascending=False)\n",
    "    user_top_id = user_top.iloc[0]['user_id']\n",
    "    user = user_items[user_items['user_id'] == user_top_id]\n",
    "    user = user.set_index('item_id').merge(steam_games.drop(columns=['genres']), how='left', left_index=True, right_index=True)\n",
    "    user = user.drop(columns=[ 'user_id']).groupby('date')['playtime'].sum().reset_index()\n",
    "    user = user[user['playtime'] > 0]\n",
    "    texto = f'Usuario con más horas jugadas para el género {genero}: {user_top_id}. Horas jugadas por año de lanzamiento: '\n",
    "    for index, row in user.iterrows():\n",
    "        texto += f'Año {int(row[\"date\"])}: {round(int(row[\"playtime\"])/60,1)} hora(s). '\n",
    "\n",
    "    return texto"
   ]
  },
  {
   "cell_type": "code",
   "execution_count": 121,
   "metadata": {},
   "outputs": [],
   "source": [
    "user_genre = {}\n",
    "for x in steam_df['genres'].explode('lista_columna').unique():\n",
    "    try:\n",
    "        user_genre[x.lower()]=UserForGenre(x,steam_df[['genres','date']],items_df[['user_id','item_id','playtime']]) \n",
    "    except IndexError:\n",
    "        pass "
   ]
  },
  {
   "cell_type": "code",
   "execution_count": 122,
   "metadata": {},
   "outputs": [],
   "source": [
    "pd.DataFrame(list(user_genre.items()), columns=['genre', 'return']).set_index('genre').to_parquet('userforgenre.parquet')"
   ]
  },
  {
   "cell_type": "markdown",
   "metadata": {},
   "source": [
    "Funcion 3"
   ]
  },
  {
   "cell_type": "code",
   "execution_count": 123,
   "metadata": {},
   "outputs": [],
   "source": [
    "def UsersRecommend( year : int,user_reviews,steam_games ):\n",
    "    df = user_reviews[(user_reviews['date'].dt.year == year) & \n",
    "                      (user_reviews['sentiment_analysis'] > 0)].drop(columns=['date','sentiment_analysis'])\n",
    "    df = df.groupby('item_id')['recommend'].sum().reset_index()\n",
    "    df = df.sort_values(by='recommend', ascending=False)\n",
    "    df = df.head(3)\n",
    "    ids = df['item_id'].values\n",
    "    names =[]\n",
    "    for id in ids:\n",
    "        id = int(id)\n",
    "        names.append(steam_games.loc[id]['name'])\n",
    "    return 'Puesto 1: '+names[0]+', Puesto 2: '+names[1]+', Puesto 3: '+names[2]"
   ]
  },
  {
   "cell_type": "code",
   "execution_count": 124,
   "metadata": {},
   "outputs": [],
   "source": [
    "users_recommend ={}\n",
    "for x in reviews_df['date'].dt.year.unique():\n",
    "    users_recommend[x] = UsersRecommend(x,reviews_df,steam_df)"
   ]
  },
  {
   "cell_type": "code",
   "execution_count": 125,
   "metadata": {},
   "outputs": [],
   "source": [
    "pd.DataFrame(list(users_recommend.items()), columns=[ 'year','return']).set_index('year').to_parquet('usersrecommend.parquet')"
   ]
  },
  {
   "cell_type": "markdown",
   "metadata": {},
   "source": [
    "Funcion 4"
   ]
  },
  {
   "cell_type": "code",
   "execution_count": 126,
   "metadata": {},
   "outputs": [],
   "source": [
    "def UsersNotRecommend( year : int,user_reviews,steam_games ):\n",
    "    df = user_reviews[(user_reviews['date'].dt.year == year) & \n",
    "                      (user_reviews['sentiment_analysis'] == 0)&\n",
    "                      (user_reviews['recommend'] == 0) ].drop(columns=['recommend','date','sentiment_analysis'])\n",
    "    df = df['item_id'].value_counts().head(10).reset_index()\n",
    "    ids = df['item_id'].values\n",
    "    names =[]\n",
    "    for id in ids:\n",
    "        id = int(id)\n",
    "        try:\n",
    "            names.append(steam_games.loc[id]['name'])\n",
    "        except KeyError:\n",
    "            pass\n",
    "    return 'Puesto 1: '+names[0]+', Puesto 2: '+names[1]+', Puesto 3: '+names[2]"
   ]
  },
  {
   "cell_type": "code",
   "execution_count": 127,
   "metadata": {},
   "outputs": [],
   "source": [
    "users_nrecommend ={}\n",
    "for x in reviews_df['date'].dt.year.unique():\n",
    "    try:\n",
    "        users_nrecommend[x] = UsersNotRecommend(x,reviews_df,steam_df)\n",
    "    except IndexError:\n",
    "        users_nrecommend[x] = 'No hay juegos no recomendados para este año'"
   ]
  },
  {
   "cell_type": "code",
   "execution_count": 128,
   "metadata": {},
   "outputs": [],
   "source": [
    "pd.DataFrame(list(users_nrecommend.items()), columns=[ 'year','return']).set_index('year').to_parquet('usersnotrecommend.parquet')"
   ]
  },
  {
   "cell_type": "markdown",
   "metadata": {},
   "source": [
    "Funcion 5"
   ]
  },
  {
   "cell_type": "code",
   "execution_count": 129,
   "metadata": {},
   "outputs": [],
   "source": [
    "def sentiment_analysis( year : int,df ):\n",
    "    df = df[(df['date'].dt.year == year)].drop(columns={'date','recommend','item_id'})\n",
    "    df = df.value_counts().reset_index().set_index('sentiment_analysis')\n",
    "    return 'Negativo = '+str(df.loc[0]['count'])+', Neutral = '+str(df.loc[1]['count'])+', Positivo = '+str(df.loc[2]['count'])"
   ]
  },
  {
   "cell_type": "code",
   "execution_count": 130,
   "metadata": {},
   "outputs": [],
   "source": [
    "sentiment ={}\n",
    "for x in reviews_df['date'].dt.year.unique():\n",
    "    sentiment[x] = sentiment_analysis(x,reviews_df)\n"
   ]
  },
  {
   "cell_type": "code",
   "execution_count": 131,
   "metadata": {},
   "outputs": [],
   "source": [
    "pd.DataFrame(list(sentiment.items()), columns=[ 'year','return']).set_index('year').to_parquet('sentiment_analysis.parquet')"
   ]
  },
  {
   "cell_type": "markdown",
   "metadata": {},
   "source": [
    "Modelo de recomendacion Item-Item"
   ]
  },
  {
   "cell_type": "code",
   "execution_count": 143,
   "metadata": {},
   "outputs": [],
   "source": [
    "vectorizer = CountVectorizer(tokenizer=lambda x: x, lowercase=False)\n"
   ]
  },
  {
   "cell_type": "code",
   "execution_count": 144,
   "metadata": {},
   "outputs": [],
   "source": [
    "ml_df['attributes'] = ml_df['attributes'].apply(lambda lista: ' '.join(map(str, lista)).lower())"
   ]
  },
  {
   "cell_type": "code",
   "execution_count": 145,
   "metadata": {},
   "outputs": [
    {
     "name": "stderr",
     "output_type": "stream",
     "text": [
      "d:\\Bootcamp SoyHenry\\PI MLOps - STEAM\\PIMLOps\\Lib\\site-packages\\sklearn\\feature_extraction\\text.py:525: UserWarning: The parameter 'token_pattern' will not be used since 'tokenizer' is not None'\n",
      "  warnings.warn(\n"
     ]
    }
   ],
   "source": [
    "matrix = vectorizer.fit_transform(ml_df['attributes'])\n"
   ]
  },
  {
   "cell_type": "code",
   "execution_count": 146,
   "metadata": {},
   "outputs": [],
   "source": [
    "similarity_matrix = cosine_similarity(matrix, matrix)"
   ]
  },
  {
   "cell_type": "markdown",
   "metadata": {},
   "source": [
    "Funcion 6 "
   ]
  },
  {
   "cell_type": "code",
   "execution_count": 147,
   "metadata": {},
   "outputs": [],
   "source": [
    "def get_recommendations(game_id, similarity_matrix, df, top_n=5):\n",
    "    game_index = df.index.get_loc(game_id)\n",
    "    similar_games_indices = similarity_matrix[game_index].argsort()[::-1][1:top_n+1]\n",
    "    similar_games = df.iloc[similar_games_indices]\n",
    "    similar_games = similar_games['name'].values\n",
    "    texto = 'Juegos recomendados: '\n",
    "    for name in similar_games:\n",
    "        texto+= name+'. '\n",
    "    return texto"
   ]
  },
  {
   "cell_type": "code",
   "execution_count": 148,
   "metadata": {},
   "outputs": [],
   "source": [
    "recommendations = {}\n",
    "for x in ml_df.index.tolist():\n",
    "    recommendations[x] = get_recommendations(x, similarity_matrix, ml_df)\n"
   ]
  },
  {
   "cell_type": "code",
   "execution_count": 154,
   "metadata": {},
   "outputs": [],
   "source": [
    "pd.DataFrame(list(recommendations.items()), columns=[ 'id','return']).set_index('id').to_parquet('recommendations.parquet')"
   ]
  }
 ],
 "metadata": {
  "kernelspec": {
   "display_name": "PIMLOps",
   "language": "python",
   "name": "python3"
  },
  "language_info": {
   "codemirror_mode": {
    "name": "ipython",
    "version": 3
   },
   "file_extension": ".py",
   "mimetype": "text/x-python",
   "name": "python",
   "nbconvert_exporter": "python",
   "pygments_lexer": "ipython3",
   "version": "3.12.0"
  }
 },
 "nbformat": 4,
 "nbformat_minor": 2
}
